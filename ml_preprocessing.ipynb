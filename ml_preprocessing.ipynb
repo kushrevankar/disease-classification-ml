{
  "nbformat": 4,
  "nbformat_minor": 0,
  "metadata": {
    "colab": {
      "provenance": []
    },
    "kernelspec": {
      "name": "python3",
      "display_name": "Python 3"
    },
    "language_info": {
      "name": "python"
    }
  },
  "cells": [
    {
      "cell_type": "code",
      "execution_count": null,
      "metadata": {
        "colab": {
          "base_uri": "https://localhost:8080/"
        },
        "id": "7ruhngFok6lI",
        "outputId": "5a075dda-0bd0-43ac-a5cf-c44a35ff4dfa"
      },
      "outputs": [
        {
          "output_type": "stream",
          "name": "stdout",
          "text": [
            "Mounted at /content/drive\n"
          ]
        }
      ],
      "source": [
        "import pandas as pd\n",
        "import numpy as np\n",
        "from google.colab import drive\n",
        "drive.mount('/content/drive')\n",
        "from google.colab import files"
      ]
    },
    {
      "cell_type": "code",
      "source": [
        "file_path = \"/content/drive/MyDrive/diseasedataset/dataset.csv\"\n",
        "df = pd.read_csv(file_path)"
      ],
      "metadata": {
        "id": "ugnw2GlFlJus"
      },
      "execution_count": null,
      "outputs": []
    },
    {
      "cell_type": "code",
      "source": [
        "disease_counts = df['diseases'].value_counts()\n",
        "\n",
        "# filter only those diseases with more than 500 records (to ensure proper training)\n",
        "\n",
        "common_diseases = disease_counts[disease_counts >= 500].index\n",
        "filtered_df = df[df['diseases'].isin(common_diseases)]"
      ],
      "metadata": {
        "id": "o5Ve--4Rl-AZ"
      },
      "execution_count": null,
      "outputs": []
    },
    {
      "cell_type": "code",
      "source": [
        "df.shape"
      ],
      "metadata": {
        "colab": {
          "base_uri": "https://localhost:8080/"
        },
        "id": "nB6OQOnMmHK2",
        "outputId": "088801e9-2c25-4461-9b00-19903801cf8d"
      },
      "execution_count": null,
      "outputs": [
        {
          "output_type": "execute_result",
          "data": {
            "text/plain": [
              "(246945, 378)"
            ]
          },
          "metadata": {},
          "execution_count": 4
        }
      ]
    },
    {
      "cell_type": "code",
      "source": [
        "filtered_df.shape"
      ],
      "metadata": {
        "colab": {
          "base_uri": "https://localhost:8080/"
        },
        "id": "1f1w8vEVm0XO",
        "outputId": "097f4e70-c904-4ad0-ba88-4fbe86fb08ce"
      },
      "execution_count": null,
      "outputs": [
        {
          "output_type": "execute_result",
          "data": {
            "text/plain": [
              "(168499, 378)"
            ]
          },
          "metadata": {},
          "execution_count": 5
        }
      ]
    },
    {
      "cell_type": "code",
      "source": [
        "# add noise (since it is a synthetic dataset)\n",
        "\n",
        "def augment_with_partial_noise(filtered_df, target_col='disease', flip_prob=0.01, percent=0.25, seed=None):\n",
        "    if seed is not None:\n",
        "        np.random.seed(seed)\n",
        "\n",
        "    # Split features and target\n",
        "    X = filtered_df.drop(columns=[target_col])\n",
        "    y = filtered_df[target_col]\n",
        "\n",
        "    # Sample random rows to augment\n",
        "    num_to_augment = int(len(filtered_df) * percent)\n",
        "    sampled_indices = np.random.choice(filtered_df.index, size=num_to_augment, replace=False)\n",
        "    X_sample = X.loc[sampled_indices].copy().reset_index(drop=True)\n",
        "    y_sample = y.loc[sampled_indices].copy().reset_index(drop=True)\n",
        "\n",
        "    # Flip symptom bits with probability\n",
        "    flip_mask = np.random.rand(*X_sample.shape) < flip_prob\n",
        "    X_flipped = np.abs(X_sample.values - flip_mask.astype(int))\n",
        "    X_noisy = pd.DataFrame(X_flipped, columns=X_sample.columns)\n",
        "\n",
        "    # Combine with original\n",
        "    X_aug = pd.concat([X, X_noisy], ignore_index=True)\n",
        "    y_aug = pd.concat([y, y_sample], ignore_index=True)\n",
        "\n",
        "    filtered_df_augmented = X_aug.copy()\n",
        "    filtered_df_augmented[target_col] = y_aug\n",
        "\n",
        "    return filtered_df_augmented"
      ],
      "metadata": {
        "id": "IZd6MdbgneUb"
      },
      "execution_count": null,
      "outputs": []
    },
    {
      "cell_type": "code",
      "source": [
        "df_augmented = augment_with_partial_noise(filtered_df, target_col='diseases', flip_prob=0.02, percent=0.25, seed=42)\n",
        "\n",
        "print(\"Original shape:\", filtered_df.shape)\n",
        "print(\"Augmented shape:\", df_augmented.shape)"
      ],
      "metadata": {
        "colab": {
          "base_uri": "https://localhost:8080/"
        },
        "id": "ulyf_lh6oyj-",
        "outputId": "8c70ffdf-3571-4d4c-d748-3ad91d2e5ec6"
      },
      "execution_count": null,
      "outputs": [
        {
          "output_type": "stream",
          "name": "stdout",
          "text": [
            "Original shape: (168499, 378)\n",
            "Augmented shape: (210623, 378)\n"
          ]
        }
      ]
    },
    {
      "cell_type": "code",
      "source": [
        "unique_diseases = df['diseases'].unique()\n",
        "dis_count = pd.Series(unique_diseases).value_counts()\n",
        "print(dis_count)"
      ],
      "metadata": {
        "colab": {
          "base_uri": "https://localhost:8080/"
        },
        "id": "dEIhCDJosrMT",
        "outputId": "1f6cfa9b-aebe-423f-afbc-81715d2a2b68"
      },
      "execution_count": null,
      "outputs": [
        {
          "output_type": "stream",
          "name": "stdout",
          "text": [
            "open wound of the nose            1\n",
            "panic disorder                    1\n",
            "vocal cord polyp                  1\n",
            "turner syndrome                   1\n",
            "cryptorchidism                    1\n",
            "                                 ..\n",
            "headache after lumbar puncture    1\n",
            "eye alignment disorder            1\n",
            "cellulitis or abscess of mouth    1\n",
            "fracture of the hand              1\n",
            "atrophic vaginitis                1\n",
            "Name: count, Length: 773, dtype: int64\n"
          ]
        }
      ]
    },
    {
      "cell_type": "code",
      "source": [
        "unique_diseases = filtered_df['diseases'].unique()\n",
        "dis_count = pd.Series(unique_diseases).value_counts()\n",
        "print(dis_count)"
      ],
      "metadata": {
        "id": "JTpwK9dIpokT",
        "colab": {
          "base_uri": "https://localhost:8080/"
        },
        "outputId": "063d7d8d-ccb8-41ac-dfb7-dd9577985dc9"
      },
      "execution_count": null,
      "outputs": [
        {
          "output_type": "stream",
          "name": "stdout",
          "text": [
            "panic disorder                 1\n",
            "vaginitis                      1\n",
            "transient ischemic attack      1\n",
            "pyelonephritis                 1\n",
            "chronic pain disorder          1\n",
            "                              ..\n",
            "gastroduodenal ulcer           1\n",
            "eczema                         1\n",
            "white blood cell disease       1\n",
            "spondylolisthesis              1\n",
            "conjunctivitis due to virus    1\n",
            "Name: count, Length: 201, dtype: int64\n"
          ]
        }
      ]
    },
    {
      "cell_type": "code",
      "source": [
        "# export\n",
        "\n",
        "df_augmented.to_csv('properfinal.csv')\n",
        "files.download('properfinal.csv')"
      ],
      "metadata": {
        "colab": {
          "base_uri": "https://localhost:8080/",
          "height": 17
        },
        "id": "ut_x108Cs1Wi",
        "outputId": "3f4ed7c0-76b6-495b-8a1d-1c485b4e7118"
      },
      "execution_count": null,
      "outputs": [
        {
          "output_type": "display_data",
          "data": {
            "text/plain": [
              "<IPython.core.display.Javascript object>"
            ],
            "application/javascript": [
              "\n",
              "    async function download(id, filename, size) {\n",
              "      if (!google.colab.kernel.accessAllowed) {\n",
              "        return;\n",
              "      }\n",
              "      const div = document.createElement('div');\n",
              "      const label = document.createElement('label');\n",
              "      label.textContent = `Downloading \"${filename}\": `;\n",
              "      div.appendChild(label);\n",
              "      const progress = document.createElement('progress');\n",
              "      progress.max = size;\n",
              "      div.appendChild(progress);\n",
              "      document.body.appendChild(div);\n",
              "\n",
              "      const buffers = [];\n",
              "      let downloaded = 0;\n",
              "\n",
              "      const channel = await google.colab.kernel.comms.open(id);\n",
              "      // Send a message to notify the kernel that we're ready.\n",
              "      channel.send({})\n",
              "\n",
              "      for await (const message of channel.messages) {\n",
              "        // Send a message to notify the kernel that we're ready.\n",
              "        channel.send({})\n",
              "        if (message.buffers) {\n",
              "          for (const buffer of message.buffers) {\n",
              "            buffers.push(buffer);\n",
              "            downloaded += buffer.byteLength;\n",
              "            progress.value = downloaded;\n",
              "          }\n",
              "        }\n",
              "      }\n",
              "      const blob = new Blob(buffers, {type: 'application/binary'});\n",
              "      const a = document.createElement('a');\n",
              "      a.href = window.URL.createObjectURL(blob);\n",
              "      a.download = filename;\n",
              "      div.appendChild(a);\n",
              "      a.click();\n",
              "      div.remove();\n",
              "    }\n",
              "  "
            ]
          },
          "metadata": {}
        },
        {
          "output_type": "display_data",
          "data": {
            "text/plain": [
              "<IPython.core.display.Javascript object>"
            ],
            "application/javascript": [
              "download(\"download_0f7c26d4-7ece-4a19-b588-e14903836684\", \"properfinal.csv\", 164031291)"
            ]
          },
          "metadata": {}
        }
      ]
    }
  ]
}